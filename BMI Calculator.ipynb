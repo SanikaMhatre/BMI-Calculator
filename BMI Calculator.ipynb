{
 "cells": [
  {
   "cell_type": "markdown",
   "id": "c6aab4dd",
   "metadata": {},
   "source": [
    "BMI Calculator\n"
   ]
  },
  {
   "cell_type": "code",
   "execution_count": 22,
   "id": "84da157a",
   "metadata": {},
   "outputs": [
    {
     "name": "stdout",
     "output_type": "stream",
     "text": [
      "Enter your name: sau\n",
      "Enter your weight in pounds: 89\n",
      "Enter your height in inches: 89\n",
      "7.898876404494382\n",
      "sau, you are underweight\n"
     ]
    }
   ],
   "source": [
    "name = input(\"Enter your name: \")\n",
    "\n",
    "weight = float(input(\"Enter your weight in pounds: \" ))\n",
    "\n",
    "height = float(input(\"Enter your height in inches: \" ))\n",
    "\n",
    "BMI = (weight * 703) /(height * height)\n",
    "\n",
    "print(BMI)\n",
    "\n",
    "if BMI>0:\n",
    "    if(BMI < 18.5):\n",
    "        print(name + \", you are underweight\")\n",
    "    elif(BMI <= 24.9):\n",
    "        print(name + \", your weight is normal\")\n",
    "    elif(BMI <= 29.9):\n",
    "        print(name + \", you are overweight\")\n",
    "    elif(BMI <= 34.9):\n",
    "        print(name + \", you are obese\")\n",
    "    elif(BMI <= 39.9):\n",
    "        print(name +\", you are severly obese\")\n",
    "    elif(BMI >= 40):\n",
    "        print(name +\", you are morbidly obese\")\n",
    "else:\n",
    "    print(\"Enter Valid inputs\")"
   ]
  },
  {
   "cell_type": "code",
   "execution_count": null,
   "id": "017b0162",
   "metadata": {},
   "outputs": [],
   "source": []
  },
  {
   "cell_type": "code",
   "execution_count": null,
   "id": "a0a7f33b",
   "metadata": {},
   "outputs": [],
   "source": []
  },
  {
   "cell_type": "code",
   "execution_count": null,
   "id": "04542e46",
   "metadata": {},
   "outputs": [],
   "source": []
  },
  {
   "cell_type": "code",
   "execution_count": null,
   "id": "de037034",
   "metadata": {},
   "outputs": [],
   "source": []
  }
 ],
 "metadata": {
  "kernelspec": {
   "display_name": "Python 3 (ipykernel)",
   "language": "python",
   "name": "python3"
  },
  "language_info": {
   "codemirror_mode": {
    "name": "ipython",
    "version": 3
   },
   "file_extension": ".py",
   "mimetype": "text/x-python",
   "name": "python",
   "nbconvert_exporter": "python",
   "pygments_lexer": "ipython3",
   "version": "3.9.17"
  }
 },
 "nbformat": 4,
 "nbformat_minor": 5
}
